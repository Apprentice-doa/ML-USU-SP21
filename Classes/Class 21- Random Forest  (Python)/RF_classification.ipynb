{
 "cells": [
  {
   "cell_type": "markdown",
   "metadata": {},
   "source": [
    "<img src=\"logo.jpg\" />\n",
    "\n",
    "## [Prof. Pedram Jahangiry](https://huntsman.usu.edu/directory/jahangiry-pedram) \n",
    "[GitHub account](https://github.com/PJalgotrader) \n",
    "\n",
    "[YouTube Channel](https://www.youtube.com/channel/UCNDElcuuyX-2pSatVBDpJJQ/playlists) "
   ]
  },
  {
   "cell_type": "code",
   "execution_count": 1,
   "metadata": {},
   "outputs": [],
   "source": [
    "import numpy as np\n",
    "import pandas as pd \n",
    "import matplotlib.pyplot as plt\n",
    "import seaborn as sns\n",
    "import datetime\n",
    "sns.set()  #if you want to use seaborn themes with matplotlib functions\n",
    "import warnings\n",
    "warnings.filterwarnings('ignore')"
   ]
  },
  {
   "cell_type": "code",
   "execution_count": 2,
   "metadata": {},
   "outputs": [],
   "source": [
    "rand_state = 1000"
   ]
  },
  {
   "cell_type": "code",
   "execution_count": 3,
   "metadata": {},
   "outputs": [],
   "source": [
    "df = pd.read_csv(\"Apple_data.csv\")"
   ]
  },
  {
   "cell_type": "code",
   "execution_count": 4,
   "metadata": {},
   "outputs": [
    {
     "data": {
      "text/html": [
       "<div>\n",
       "<style scoped>\n",
       "    .dataframe tbody tr th:only-of-type {\n",
       "        vertical-align: middle;\n",
       "    }\n",
       "\n",
       "    .dataframe tbody tr th {\n",
       "        vertical-align: top;\n",
       "    }\n",
       "\n",
       "    .dataframe thead th {\n",
       "        text-align: right;\n",
       "    }\n",
       "</style>\n",
       "<table border=\"1\" class=\"dataframe\">\n",
       "  <thead>\n",
       "    <tr style=\"text-align: right;\">\n",
       "      <th></th>\n",
       "      <th>Dates</th>\n",
       "      <th>price</th>\n",
       "      <th>P_B</th>\n",
       "      <th>P_S</th>\n",
       "      <th>P_FCF</th>\n",
       "      <th>P_EPS</th>\n",
       "      <th>P_EBITDA</th>\n",
       "      <th>EV_FCFF</th>\n",
       "      <th>EV_B</th>\n",
       "      <th>LTDebt_EV</th>\n",
       "      <th>EV_EBITDA</th>\n",
       "      <th>DPS</th>\n",
       "      <th>DPR</th>\n",
       "    </tr>\n",
       "  </thead>\n",
       "  <tbody>\n",
       "    <tr>\n",
       "      <th>0</th>\n",
       "      <td>4/1/2010</td>\n",
       "      <td>8.428</td>\n",
       "      <td>5.4551</td>\n",
       "      <td>4.1605</td>\n",
       "      <td>17.5258</td>\n",
       "      <td>19.6642</td>\n",
       "      <td>13.4379</td>\n",
       "      <td>14.1951</td>\n",
       "      <td>4.3782</td>\n",
       "      <td>0.0</td>\n",
       "      <td>15.9334</td>\n",
       "      <td>0.0</td>\n",
       "      <td>0.0</td>\n",
       "    </tr>\n",
       "    <tr>\n",
       "      <th>1</th>\n",
       "      <td>4/2/2010</td>\n",
       "      <td>8.428</td>\n",
       "      <td>5.4551</td>\n",
       "      <td>4.1605</td>\n",
       "      <td>17.5258</td>\n",
       "      <td>19.6642</td>\n",
       "      <td>13.4379</td>\n",
       "      <td>14.1951</td>\n",
       "      <td>4.3782</td>\n",
       "      <td>0.0</td>\n",
       "      <td>15.9334</td>\n",
       "      <td>0.0</td>\n",
       "      <td>0.0</td>\n",
       "    </tr>\n",
       "    <tr>\n",
       "      <th>2</th>\n",
       "      <td>4/5/2010</td>\n",
       "      <td>8.518</td>\n",
       "      <td>5.5133</td>\n",
       "      <td>4.2050</td>\n",
       "      <td>17.7129</td>\n",
       "      <td>19.8742</td>\n",
       "      <td>13.5814</td>\n",
       "      <td>14.3834</td>\n",
       "      <td>4.4362</td>\n",
       "      <td>0.0</td>\n",
       "      <td>16.1448</td>\n",
       "      <td>0.0</td>\n",
       "      <td>0.0</td>\n",
       "    </tr>\n",
       "    <tr>\n",
       "      <th>3</th>\n",
       "      <td>4/6/2010</td>\n",
       "      <td>8.555</td>\n",
       "      <td>5.5376</td>\n",
       "      <td>4.2235</td>\n",
       "      <td>17.7909</td>\n",
       "      <td>19.9617</td>\n",
       "      <td>13.6412</td>\n",
       "      <td>14.4619</td>\n",
       "      <td>4.4604</td>\n",
       "      <td>0.0</td>\n",
       "      <td>16.2329</td>\n",
       "      <td>0.0</td>\n",
       "      <td>0.0</td>\n",
       "    </tr>\n",
       "    <tr>\n",
       "      <th>4</th>\n",
       "      <td>4/7/2010</td>\n",
       "      <td>8.593</td>\n",
       "      <td>5.5621</td>\n",
       "      <td>4.2422</td>\n",
       "      <td>17.8696</td>\n",
       "      <td>20.0500</td>\n",
       "      <td>13.7015</td>\n",
       "      <td>14.5411</td>\n",
       "      <td>4.4849</td>\n",
       "      <td>0.0</td>\n",
       "      <td>16.3218</td>\n",
       "      <td>0.0</td>\n",
       "      <td>0.0</td>\n",
       "    </tr>\n",
       "  </tbody>\n",
       "</table>\n",
       "</div>"
      ],
      "text/plain": [
       "      Dates  price     P_B     P_S    P_FCF    P_EPS  P_EBITDA  EV_FCFF  \\\n",
       "0  4/1/2010  8.428  5.4551  4.1605  17.5258  19.6642   13.4379  14.1951   \n",
       "1  4/2/2010  8.428  5.4551  4.1605  17.5258  19.6642   13.4379  14.1951   \n",
       "2  4/5/2010  8.518  5.5133  4.2050  17.7129  19.8742   13.5814  14.3834   \n",
       "3  4/6/2010  8.555  5.5376  4.2235  17.7909  19.9617   13.6412  14.4619   \n",
       "4  4/7/2010  8.593  5.5621  4.2422  17.8696  20.0500   13.7015  14.5411   \n",
       "\n",
       "     EV_B  LTDebt_EV  EV_EBITDA  DPS  DPR  \n",
       "0  4.3782        0.0    15.9334  0.0  0.0  \n",
       "1  4.3782        0.0    15.9334  0.0  0.0  \n",
       "2  4.4362        0.0    16.1448  0.0  0.0  \n",
       "3  4.4604        0.0    16.2329  0.0  0.0  \n",
       "4  4.4849        0.0    16.3218  0.0  0.0  "
      ]
     },
     "execution_count": 4,
     "metadata": {},
     "output_type": "execute_result"
    }
   ],
   "source": [
    "df.head()"
   ]
  },
  {
   "cell_type": "markdown",
   "metadata": {},
   "source": [
    "### Change Date to datetime object"
   ]
  },
  {
   "cell_type": "code",
   "execution_count": 5,
   "metadata": {},
   "outputs": [],
   "source": [
    "df['Dates'] = pd.to_datetime(df['Dates'], errors='coerce')"
   ]
  },
  {
   "cell_type": "code",
   "execution_count": 6,
   "metadata": {},
   "outputs": [
    {
     "name": "stdout",
     "output_type": "stream",
     "text": [
      "<class 'pandas.core.frame.DataFrame'>\n",
      "RangeIndex: 2871 entries, 0 to 2870\n",
      "Data columns (total 13 columns):\n",
      "Dates        2871 non-null datetime64[ns]\n",
      "price        2871 non-null float64\n",
      "P_B          2871 non-null float64\n",
      "P_S          2871 non-null float64\n",
      "P_FCF        2871 non-null float64\n",
      "P_EPS        2871 non-null float64\n",
      "P_EBITDA     2871 non-null float64\n",
      "EV_FCFF      2871 non-null float64\n",
      "EV_B         2871 non-null float64\n",
      "LTDebt_EV    2871 non-null float64\n",
      "EV_EBITDA    2871 non-null float64\n",
      "DPS          2871 non-null float64\n",
      "DPR          2871 non-null float64\n",
      "dtypes: datetime64[ns](1), float64(12)\n",
      "memory usage: 291.7 KB\n"
     ]
    }
   ],
   "source": [
    "df.info()"
   ]
  },
  {
   "cell_type": "markdown",
   "metadata": {},
   "source": [
    "---"
   ]
  },
  {
   "cell_type": "code",
   "execution_count": 7,
   "metadata": {},
   "outputs": [],
   "source": [
    "df[\"lag_price\"] = df['price'].shift(1)"
   ]
  },
  {
   "cell_type": "code",
   "execution_count": 8,
   "metadata": {},
   "outputs": [
    {
     "data": {
      "text/html": [
       "<div>\n",
       "<style scoped>\n",
       "    .dataframe tbody tr th:only-of-type {\n",
       "        vertical-align: middle;\n",
       "    }\n",
       "\n",
       "    .dataframe tbody tr th {\n",
       "        vertical-align: top;\n",
       "    }\n",
       "\n",
       "    .dataframe thead th {\n",
       "        text-align: right;\n",
       "    }\n",
       "</style>\n",
       "<table border=\"1\" class=\"dataframe\">\n",
       "  <thead>\n",
       "    <tr style=\"text-align: right;\">\n",
       "      <th></th>\n",
       "      <th>Dates</th>\n",
       "      <th>price</th>\n",
       "      <th>P_B</th>\n",
       "      <th>P_S</th>\n",
       "      <th>P_FCF</th>\n",
       "      <th>P_EPS</th>\n",
       "      <th>P_EBITDA</th>\n",
       "      <th>EV_FCFF</th>\n",
       "      <th>EV_B</th>\n",
       "      <th>LTDebt_EV</th>\n",
       "      <th>EV_EBITDA</th>\n",
       "      <th>DPS</th>\n",
       "      <th>DPR</th>\n",
       "      <th>lag_price</th>\n",
       "    </tr>\n",
       "  </thead>\n",
       "  <tbody>\n",
       "    <tr>\n",
       "      <th>0</th>\n",
       "      <td>2010-04-01</td>\n",
       "      <td>8.428</td>\n",
       "      <td>5.4551</td>\n",
       "      <td>4.1605</td>\n",
       "      <td>17.5258</td>\n",
       "      <td>19.6642</td>\n",
       "      <td>13.4379</td>\n",
       "      <td>14.1951</td>\n",
       "      <td>4.3782</td>\n",
       "      <td>0.0</td>\n",
       "      <td>15.9334</td>\n",
       "      <td>0.0</td>\n",
       "      <td>0.0</td>\n",
       "      <td>NaN</td>\n",
       "    </tr>\n",
       "    <tr>\n",
       "      <th>1</th>\n",
       "      <td>2010-04-02</td>\n",
       "      <td>8.428</td>\n",
       "      <td>5.4551</td>\n",
       "      <td>4.1605</td>\n",
       "      <td>17.5258</td>\n",
       "      <td>19.6642</td>\n",
       "      <td>13.4379</td>\n",
       "      <td>14.1951</td>\n",
       "      <td>4.3782</td>\n",
       "      <td>0.0</td>\n",
       "      <td>15.9334</td>\n",
       "      <td>0.0</td>\n",
       "      <td>0.0</td>\n",
       "      <td>8.428</td>\n",
       "    </tr>\n",
       "    <tr>\n",
       "      <th>2</th>\n",
       "      <td>2010-04-05</td>\n",
       "      <td>8.518</td>\n",
       "      <td>5.5133</td>\n",
       "      <td>4.2050</td>\n",
       "      <td>17.7129</td>\n",
       "      <td>19.8742</td>\n",
       "      <td>13.5814</td>\n",
       "      <td>14.3834</td>\n",
       "      <td>4.4362</td>\n",
       "      <td>0.0</td>\n",
       "      <td>16.1448</td>\n",
       "      <td>0.0</td>\n",
       "      <td>0.0</td>\n",
       "      <td>8.428</td>\n",
       "    </tr>\n",
       "    <tr>\n",
       "      <th>3</th>\n",
       "      <td>2010-04-06</td>\n",
       "      <td>8.555</td>\n",
       "      <td>5.5376</td>\n",
       "      <td>4.2235</td>\n",
       "      <td>17.7909</td>\n",
       "      <td>19.9617</td>\n",
       "      <td>13.6412</td>\n",
       "      <td>14.4619</td>\n",
       "      <td>4.4604</td>\n",
       "      <td>0.0</td>\n",
       "      <td>16.2329</td>\n",
       "      <td>0.0</td>\n",
       "      <td>0.0</td>\n",
       "      <td>8.518</td>\n",
       "    </tr>\n",
       "    <tr>\n",
       "      <th>4</th>\n",
       "      <td>2010-04-07</td>\n",
       "      <td>8.593</td>\n",
       "      <td>5.5621</td>\n",
       "      <td>4.2422</td>\n",
       "      <td>17.8696</td>\n",
       "      <td>20.0500</td>\n",
       "      <td>13.7015</td>\n",
       "      <td>14.5411</td>\n",
       "      <td>4.4849</td>\n",
       "      <td>0.0</td>\n",
       "      <td>16.3218</td>\n",
       "      <td>0.0</td>\n",
       "      <td>0.0</td>\n",
       "      <td>8.555</td>\n",
       "    </tr>\n",
       "  </tbody>\n",
       "</table>\n",
       "</div>"
      ],
      "text/plain": [
       "       Dates  price     P_B     P_S    P_FCF    P_EPS  P_EBITDA  EV_FCFF  \\\n",
       "0 2010-04-01  8.428  5.4551  4.1605  17.5258  19.6642   13.4379  14.1951   \n",
       "1 2010-04-02  8.428  5.4551  4.1605  17.5258  19.6642   13.4379  14.1951   \n",
       "2 2010-04-05  8.518  5.5133  4.2050  17.7129  19.8742   13.5814  14.3834   \n",
       "3 2010-04-06  8.555  5.5376  4.2235  17.7909  19.9617   13.6412  14.4619   \n",
       "4 2010-04-07  8.593  5.5621  4.2422  17.8696  20.0500   13.7015  14.5411   \n",
       "\n",
       "     EV_B  LTDebt_EV  EV_EBITDA  DPS  DPR  lag_price  \n",
       "0  4.3782        0.0    15.9334  0.0  0.0        NaN  \n",
       "1  4.3782        0.0    15.9334  0.0  0.0      8.428  \n",
       "2  4.4362        0.0    16.1448  0.0  0.0      8.428  \n",
       "3  4.4604        0.0    16.2329  0.0  0.0      8.518  \n",
       "4  4.4849        0.0    16.3218  0.0  0.0      8.555  "
      ]
     },
     "execution_count": 8,
     "metadata": {},
     "output_type": "execute_result"
    }
   ],
   "source": [
    "df.head()"
   ]
  },
  {
   "cell_type": "markdown",
   "metadata": {},
   "source": [
    "## Data Verification"
   ]
  },
  {
   "cell_type": "markdown",
   "metadata": {},
   "source": [
    "Let's now check to see if there are any NA values in our data."
   ]
  },
  {
   "cell_type": "markdown",
   "metadata": {},
   "source": [
    "---"
   ]
  },
  {
   "cell_type": "code",
   "execution_count": 9,
   "metadata": {},
   "outputs": [
    {
     "data": {
      "text/plain": [
       "Dates        0\n",
       "price        0\n",
       "P_B          0\n",
       "P_S          0\n",
       "P_FCF        0\n",
       "P_EPS        0\n",
       "P_EBITDA     0\n",
       "EV_FCFF      0\n",
       "EV_B         0\n",
       "LTDebt_EV    0\n",
       "EV_EBITDA    0\n",
       "DPS          0\n",
       "DPR          0\n",
       "lag_price    1\n",
       "dtype: int64"
      ]
     },
     "execution_count": 9,
     "metadata": {},
     "output_type": "execute_result"
    }
   ],
   "source": [
    "df.isnull().sum()"
   ]
  },
  {
   "cell_type": "markdown",
   "metadata": {},
   "source": [
    "---"
   ]
  },
  {
   "cell_type": "code",
   "execution_count": 10,
   "metadata": {},
   "outputs": [],
   "source": [
    "df.dropna(inplace=True)"
   ]
  },
  {
   "cell_type": "code",
   "execution_count": 11,
   "metadata": {},
   "outputs": [
    {
     "data": {
      "text/plain": [
       "<matplotlib.axes._subplots.AxesSubplot at 0x14f60d58c88>"
      ]
     },
     "execution_count": 11,
     "metadata": {},
     "output_type": "execute_result"
    },
    {
     "data": {
      "image/png": "[encoded data removed]",
      "text/plain": [
       "<Figure size 720x504 with 1 Axes>"
      ]
     },
     "metadata": {
      "needs_background": "light"
     },
     "output_type": "display_data"
    }
   ],
   "source": [
    "plt.figure(figsize=(10,7))\n",
    "sns.heatmap(df.isnull(),yticklabels=False,cbar=False,cmap='viridis')"
   ]
  },
  {
   "cell_type": "code",
   "execution_count": 12,
   "metadata": {},
   "outputs": [
    {
     "data": {
      "text/plain": [
       "Dates        2870\n",
       "price        2633\n",
       "P_B          2684\n",
       "P_S          2605\n",
       "P_FCF        2713\n",
       "P_EPS        2713\n",
       "P_EBITDA     2709\n",
       "EV_FCFF      2729\n",
       "EV_B         2697\n",
       "LTDebt_EV    1925\n",
       "EV_EBITDA    2725\n",
       "DPS            10\n",
       "DPR            35\n",
       "lag_price    2632\n",
       "dtype: int64"
      ]
     },
     "execution_count": 12,
     "metadata": {},
     "output_type": "execute_result"
    }
   ],
   "source": [
    "df.nunique()"
   ]
  },
  {
   "cell_type": "markdown",
   "metadata": {},
   "source": [
    "---"
   ]
  },
  {
   "cell_type": "markdown",
   "metadata": {},
   "source": [
    "### Creat moving Average Data Set"
   ]
  },
  {
   "cell_type": "code",
   "execution_count": 13,
   "metadata": {},
   "outputs": [],
   "source": [
    "# stma = short-term moving average\n",
    "Moving_average = 62\n",
    "df['MA_price'] = df['price'].rolling(window=Moving_average).mean()"
   ]
  },
  {
   "cell_type": "code",
   "execution_count": 14,
   "metadata": {},
   "outputs": [],
   "source": [
    "df.dropna(inplace=True)"
   ]
  },
  {
   "cell_type": "code",
   "execution_count": 15,
   "metadata": {},
   "outputs": [
    {
     "data": {
      "text/html": [
       "<div>\n",
       "<style scoped>\n",
       "    .dataframe tbody tr th:only-of-type {\n",
       "        vertical-align: middle;\n",
       "    }\n",
       "\n",
       "    .dataframe tbody tr th {\n",
       "        vertical-align: top;\n",
       "    }\n",
       "\n",
       "    .dataframe thead th {\n",
       "        text-align: right;\n",
       "    }\n",
       "</style>\n",
       "<table border=\"1\" class=\"dataframe\">\n",
       "  <thead>\n",
       "    <tr style=\"text-align: right;\">\n",
       "      <th></th>\n",
       "      <th>Dates</th>\n",
       "      <th>price</th>\n",
       "      <th>P_B</th>\n",
       "      <th>P_S</th>\n",
       "      <th>P_FCF</th>\n",
       "      <th>P_EPS</th>\n",
       "      <th>P_EBITDA</th>\n",
       "      <th>EV_FCFF</th>\n",
       "      <th>EV_B</th>\n",
       "      <th>LTDebt_EV</th>\n",
       "      <th>EV_EBITDA</th>\n",
       "      <th>DPS</th>\n",
       "      <th>DPR</th>\n",
       "      <th>lag_price</th>\n",
       "      <th>MA_price</th>\n",
       "    </tr>\n",
       "  </thead>\n",
       "  <tbody>\n",
       "    <tr>\n",
       "      <th>62</th>\n",
       "      <td>2010-06-28</td>\n",
       "      <td>9.582</td>\n",
       "      <td>5.6850</td>\n",
       "      <td>4.2563</td>\n",
       "      <td>16.9699</td>\n",
       "      <td>19.8447</td>\n",
       "      <td>13.8640</td>\n",
       "      <td>13.8495</td>\n",
       "      <td>4.5997</td>\n",
       "      <td>0.0</td>\n",
       "      <td>16.2047</td>\n",
       "      <td>0.0</td>\n",
       "      <td>0.0</td>\n",
       "      <td>9.525</td>\n",
       "      <td>9.100113</td>\n",
       "    </tr>\n",
       "    <tr>\n",
       "      <th>63</th>\n",
       "      <td>2010-06-29</td>\n",
       "      <td>9.149</td>\n",
       "      <td>5.4280</td>\n",
       "      <td>4.0639</td>\n",
       "      <td>16.2027</td>\n",
       "      <td>18.9475</td>\n",
       "      <td>13.2372</td>\n",
       "      <td>13.0786</td>\n",
       "      <td>4.3437</td>\n",
       "      <td>0.0</td>\n",
       "      <td>15.3028</td>\n",
       "      <td>0.0</td>\n",
       "      <td>0.0</td>\n",
       "      <td>9.582</td>\n",
       "      <td>9.111742</td>\n",
       "    </tr>\n",
       "    <tr>\n",
       "      <th>64</th>\n",
       "      <td>2010-06-30</td>\n",
       "      <td>8.983</td>\n",
       "      <td>5.3297</td>\n",
       "      <td>3.9903</td>\n",
       "      <td>15.9092</td>\n",
       "      <td>18.6043</td>\n",
       "      <td>12.9975</td>\n",
       "      <td>12.7838</td>\n",
       "      <td>4.2457</td>\n",
       "      <td>0.0</td>\n",
       "      <td>14.9577</td>\n",
       "      <td>0.0</td>\n",
       "      <td>0.0</td>\n",
       "      <td>9.149</td>\n",
       "      <td>9.119242</td>\n",
       "    </tr>\n",
       "    <tr>\n",
       "      <th>65</th>\n",
       "      <td>2010-07-01</td>\n",
       "      <td>8.874</td>\n",
       "      <td>5.2651</td>\n",
       "      <td>3.9419</td>\n",
       "      <td>15.7163</td>\n",
       "      <td>18.3787</td>\n",
       "      <td>12.8399</td>\n",
       "      <td>12.5899</td>\n",
       "      <td>4.1814</td>\n",
       "      <td>0.0</td>\n",
       "      <td>14.7309</td>\n",
       "      <td>0.0</td>\n",
       "      <td>0.0</td>\n",
       "      <td>8.983</td>\n",
       "      <td>9.124387</td>\n",
       "    </tr>\n",
       "    <tr>\n",
       "      <th>66</th>\n",
       "      <td>2010-07-02</td>\n",
       "      <td>8.819</td>\n",
       "      <td>5.2324</td>\n",
       "      <td>3.9175</td>\n",
       "      <td>15.6189</td>\n",
       "      <td>18.2648</td>\n",
       "      <td>12.7603</td>\n",
       "      <td>12.4921</td>\n",
       "      <td>4.1489</td>\n",
       "      <td>0.0</td>\n",
       "      <td>14.6164</td>\n",
       "      <td>0.0</td>\n",
       "      <td>0.0</td>\n",
       "      <td>8.874</td>\n",
       "      <td>9.128032</td>\n",
       "    </tr>\n",
       "  </tbody>\n",
       "</table>\n",
       "</div>"
      ],
      "text/plain": [
       "        Dates  price     P_B     P_S    P_FCF    P_EPS  P_EBITDA  EV_FCFF  \\\n",
       "62 2010-06-28  9.582  5.6850  4.2563  16.9699  19.8447   13.8640  13.8495   \n",
       "63 2010-06-29  9.149  5.4280  4.0639  16.2027  18.9475   13.2372  13.0786   \n",
       "64 2010-06-30  8.983  5.3297  3.9903  15.9092  18.6043   12.9975  12.7838   \n",
       "65 2010-07-01  8.874  5.2651  3.9419  15.7163  18.3787   12.8399  12.5899   \n",
       "66 2010-07-02  8.819  5.2324  3.9175  15.6189  18.2648   12.7603  12.4921   \n",
       "\n",
       "      EV_B  LTDebt_EV  EV_EBITDA  DPS  DPR  lag_price  MA_price  \n",
       "62  4.5997        0.0    16.2047  0.0  0.0      9.525  9.100113  \n",
       "63  4.3437        0.0    15.3028  0.0  0.0      9.582  9.111742  \n",
       "64  4.2457        0.0    14.9577  0.0  0.0      9.149  9.119242  \n",
       "65  4.1814        0.0    14.7309  0.0  0.0      8.983  9.124387  \n",
       "66  4.1489        0.0    14.6164  0.0  0.0      8.874  9.128032  "
      ]
     },
     "execution_count": 15,
     "metadata": {},
     "output_type": "execute_result"
    }
   ],
   "source": [
    "df.head()"
   ]
  },
  {
   "cell_type": "markdown",
   "metadata": {},
   "source": [
    "Now lets create our target variable that we can use to determine how accurate our variables are in determing whether or not the security is a buy or sell. Notice that we are not engineering any new variables. This is because we want to use metrics and terms that any finance professional would be familiar with."
   ]
  },
  {
   "cell_type": "markdown",
   "metadata": {},
   "source": [
    "---"
   ]
  },
  {
   "cell_type": "code",
   "execution_count": 16,
   "metadata": {},
   "outputs": [],
   "source": [
    "# if last price > MA buy otherwise sell. \n",
    "#df_MA['signal']= np.where(df_MA['lag_price']>df_MA['MA_price'],1,0)\n",
    "df['signal']= np.where(df['lag_price']>df['MA_price'],1,0)"
   ]
  },
  {
   "cell_type": "code",
   "execution_count": 17,
   "metadata": {},
   "outputs": [
    {
     "data": {
      "text/html": [
       "<div>\n",
       "<style scoped>\n",
       "    .dataframe tbody tr th:only-of-type {\n",
       "        vertical-align: middle;\n",
       "    }\n",
       "\n",
       "    .dataframe tbody tr th {\n",
       "        vertical-align: top;\n",
       "    }\n",
       "\n",
       "    .dataframe thead th {\n",
       "        text-align: right;\n",
       "    }\n",
       "</style>\n",
       "<table border=\"1\" class=\"dataframe\">\n",
       "  <thead>\n",
       "    <tr style=\"text-align: right;\">\n",
       "      <th></th>\n",
       "      <th>Dates</th>\n",
       "      <th>price</th>\n",
       "      <th>P_B</th>\n",
       "      <th>P_S</th>\n",
       "      <th>P_FCF</th>\n",
       "      <th>P_EPS</th>\n",
       "      <th>P_EBITDA</th>\n",
       "      <th>EV_FCFF</th>\n",
       "      <th>EV_B</th>\n",
       "      <th>LTDebt_EV</th>\n",
       "      <th>EV_EBITDA</th>\n",
       "      <th>DPS</th>\n",
       "      <th>DPR</th>\n",
       "      <th>lag_price</th>\n",
       "      <th>MA_price</th>\n",
       "      <th>signal</th>\n",
       "    </tr>\n",
       "  </thead>\n",
       "  <tbody>\n",
       "    <tr>\n",
       "      <th>62</th>\n",
       "      <td>2010-06-28</td>\n",
       "      <td>9.582</td>\n",
       "      <td>5.6850</td>\n",
       "      <td>4.2563</td>\n",
       "      <td>16.9699</td>\n",
       "      <td>19.8447</td>\n",
       "      <td>13.8640</td>\n",
       "      <td>13.8495</td>\n",
       "      <td>4.5997</td>\n",
       "      <td>0.0</td>\n",
       "      <td>16.2047</td>\n",
       "      <td>0.0</td>\n",
       "      <td>0.0</td>\n",
       "      <td>9.525</td>\n",
       "      <td>9.100113</td>\n",
       "      <td>1</td>\n",
       "    </tr>\n",
       "    <tr>\n",
       "      <th>63</th>\n",
       "      <td>2010-06-29</td>\n",
       "      <td>9.149</td>\n",
       "      <td>5.4280</td>\n",
       "      <td>4.0639</td>\n",
       "      <td>16.2027</td>\n",
       "      <td>18.9475</td>\n",
       "      <td>13.2372</td>\n",
       "      <td>13.0786</td>\n",
       "      <td>4.3437</td>\n",
       "      <td>0.0</td>\n",
       "      <td>15.3028</td>\n",
       "      <td>0.0</td>\n",
       "      <td>0.0</td>\n",
       "      <td>9.582</td>\n",
       "      <td>9.111742</td>\n",
       "      <td>1</td>\n",
       "    </tr>\n",
       "    <tr>\n",
       "      <th>64</th>\n",
       "      <td>2010-06-30</td>\n",
       "      <td>8.983</td>\n",
       "      <td>5.3297</td>\n",
       "      <td>3.9903</td>\n",
       "      <td>15.9092</td>\n",
       "      <td>18.6043</td>\n",
       "      <td>12.9975</td>\n",
       "      <td>12.7838</td>\n",
       "      <td>4.2457</td>\n",
       "      <td>0.0</td>\n",
       "      <td>14.9577</td>\n",
       "      <td>0.0</td>\n",
       "      <td>0.0</td>\n",
       "      <td>9.149</td>\n",
       "      <td>9.119242</td>\n",
       "      <td>1</td>\n",
       "    </tr>\n",
       "    <tr>\n",
       "      <th>65</th>\n",
       "      <td>2010-07-01</td>\n",
       "      <td>8.874</td>\n",
       "      <td>5.2651</td>\n",
       "      <td>3.9419</td>\n",
       "      <td>15.7163</td>\n",
       "      <td>18.3787</td>\n",
       "      <td>12.8399</td>\n",
       "      <td>12.5899</td>\n",
       "      <td>4.1814</td>\n",
       "      <td>0.0</td>\n",
       "      <td>14.7309</td>\n",
       "      <td>0.0</td>\n",
       "      <td>0.0</td>\n",
       "      <td>8.983</td>\n",
       "      <td>9.124387</td>\n",
       "      <td>0</td>\n",
       "    </tr>\n",
       "    <tr>\n",
       "      <th>66</th>\n",
       "      <td>2010-07-02</td>\n",
       "      <td>8.819</td>\n",
       "      <td>5.2324</td>\n",
       "      <td>3.9175</td>\n",
       "      <td>15.6189</td>\n",
       "      <td>18.2648</td>\n",
       "      <td>12.7603</td>\n",
       "      <td>12.4921</td>\n",
       "      <td>4.1489</td>\n",
       "      <td>0.0</td>\n",
       "      <td>14.6164</td>\n",
       "      <td>0.0</td>\n",
       "      <td>0.0</td>\n",
       "      <td>8.874</td>\n",
       "      <td>9.128032</td>\n",
       "      <td>0</td>\n",
       "    </tr>\n",
       "  </tbody>\n",
       "</table>\n",
       "</div>"
      ],
      "text/plain": [
       "        Dates  price     P_B     P_S    P_FCF    P_EPS  P_EBITDA  EV_FCFF  \\\n",
       "62 2010-06-28  9.582  5.6850  4.2563  16.9699  19.8447   13.8640  13.8495   \n",
       "63 2010-06-29  9.149  5.4280  4.0639  16.2027  18.9475   13.2372  13.0786   \n",
       "64 2010-06-30  8.983  5.3297  3.9903  15.9092  18.6043   12.9975  12.7838   \n",
       "65 2010-07-01  8.874  5.2651  3.9419  15.7163  18.3787   12.8399  12.5899   \n",
       "66 2010-07-02  8.819  5.2324  3.9175  15.6189  18.2648   12.7603  12.4921   \n",
       "\n",
       "      EV_B  LTDebt_EV  EV_EBITDA  DPS  DPR  lag_price  MA_price  signal  \n",
       "62  4.5997        0.0    16.2047  0.0  0.0      9.525  9.100113       1  \n",
       "63  4.3437        0.0    15.3028  0.0  0.0      9.582  9.111742       1  \n",
       "64  4.2457        0.0    14.9577  0.0  0.0      9.149  9.119242       1  \n",
       "65  4.1814        0.0    14.7309  0.0  0.0      8.983  9.124387       0  \n",
       "66  4.1489        0.0    14.6164  0.0  0.0      8.874  9.128032       0  "
      ]
     },
     "execution_count": 17,
     "metadata": {},
     "output_type": "execute_result"
    }
   ],
   "source": [
    "df.head()"
   ]
  },
  {
   "cell_type": "code",
   "execution_count": 18,
   "metadata": {},
   "outputs": [],
   "source": [
    "df.dropna(inplace=True)"
   ]
  },
  {
   "cell_type": "code",
   "execution_count": 19,
   "metadata": {},
   "outputs": [
    {
     "data": {
      "text/html": [
       "<div>\n",
       "<style scoped>\n",
       "    .dataframe tbody tr th:only-of-type {\n",
       "        vertical-align: middle;\n",
       "    }\n",
       "\n",
       "    .dataframe tbody tr th {\n",
       "        vertical-align: top;\n",
       "    }\n",
       "\n",
       "    .dataframe thead th {\n",
       "        text-align: right;\n",
       "    }\n",
       "</style>\n",
       "<table border=\"1\" class=\"dataframe\">\n",
       "  <thead>\n",
       "    <tr style=\"text-align: right;\">\n",
       "      <th>signal</th>\n",
       "      <th>0</th>\n",
       "      <th>1</th>\n",
       "    </tr>\n",
       "    <tr>\n",
       "      <th>signal</th>\n",
       "      <th></th>\n",
       "      <th></th>\n",
       "    </tr>\n",
       "  </thead>\n",
       "  <tbody>\n",
       "    <tr>\n",
       "      <th>0</th>\n",
       "      <td>32.53827</td>\n",
       "      <td>0.00000</td>\n",
       "    </tr>\n",
       "    <tr>\n",
       "      <th>1</th>\n",
       "      <td>0.00000</td>\n",
       "      <td>67.46173</td>\n",
       "    </tr>\n",
       "  </tbody>\n",
       "</table>\n",
       "</div>"
      ],
      "text/plain": [
       "signal         0         1\n",
       "signal                    \n",
       "0       32.53827   0.00000\n",
       "1        0.00000  67.46173"
      ]
     },
     "execution_count": 19,
     "metadata": {},
     "output_type": "execute_result"
    }
   ],
   "source": [
    "pd.crosstab(df['signal'], df['signal'], normalize='all')*100"
   ]
  },
  {
   "cell_type": "code",
   "execution_count": 20,
   "metadata": {},
   "outputs": [
    {
     "data": {
      "image/png": "[encoded data removed]",
      "text/plain": [
       "<Figure size 1440x648 with 1 Axes>"
      ]
     },
     "metadata": {
      "needs_background": "light"
     },
     "output_type": "display_data"
    }
   ],
   "source": [
    "plt.figure(figsize=(20,9))\n",
    "plt.plot( 'Dates', 'price', data=df, markerfacecolor='blue', markersize=12, linewidth=2, label='Stock Price')\n",
    "plt.plot( 'Dates', 'MA_price', data=df, marker='', color='red', linewidth=1, label='Moving average')\n",
    "plt.plot( 'Dates', 'signal', data=df, marker='', color='green', linewidth=1, label='signal')\n",
    "plt.legend()\n",
    "plt.show()"
   ]
  },
  {
   "cell_type": "markdown",
   "metadata": {},
   "source": [
    "---"
   ]
  },
  {
   "cell_type": "markdown",
   "metadata": {},
   "source": [
    "### Random Forest Classification"
   ]
  },
  {
   "cell_type": "markdown",
   "metadata": {},
   "source": [
    "First, we need to remove some of the variables"
   ]
  },
  {
   "cell_type": "code",
   "execution_count": 21,
   "metadata": {},
   "outputs": [
    {
     "data": {
      "text/plain": [
       "Index(['Dates', 'price', 'P_B', 'P_S', 'P_FCF', 'P_EPS', 'P_EBITDA', 'EV_FCFF',\n",
       "       'EV_B', 'LTDebt_EV', 'EV_EBITDA', 'DPS', 'DPR', 'lag_price', 'MA_price',\n",
       "       'signal'],\n",
       "      dtype='object')"
      ]
     },
     "execution_count": 21,
     "metadata": {},
     "output_type": "execute_result"
    }
   ],
   "source": [
    "df.columns"
   ]
  },
  {
   "cell_type": "markdown",
   "metadata": {},
   "source": [
    "### Splitting the Data Set"
   ]
  },
  {
   "cell_type": "code",
   "execution_count": 22,
   "metadata": {},
   "outputs": [
    {
     "data": {
      "text/html": [
       "<div>\n",
       "<style scoped>\n",
       "    .dataframe tbody tr th:only-of-type {\n",
       "        vertical-align: middle;\n",
       "    }\n",
       "\n",
       "    .dataframe tbody tr th {\n",
       "        vertical-align: top;\n",
       "    }\n",
       "\n",
       "    .dataframe thead th {\n",
       "        text-align: right;\n",
       "    }\n",
       "</style>\n",
       "<table border=\"1\" class=\"dataframe\">\n",
       "  <thead>\n",
       "    <tr style=\"text-align: right;\">\n",
       "      <th></th>\n",
       "      <th>P_EPS</th>\n",
       "      <th>P_B</th>\n",
       "      <th>P_S</th>\n",
       "      <th>P_FCF</th>\n",
       "      <th>P_EBITDA</th>\n",
       "      <th>EV_FCFF</th>\n",
       "      <th>EV_B</th>\n",
       "      <th>LTDebt_EV</th>\n",
       "      <th>EV_EBITDA</th>\n",
       "      <th>DPS</th>\n",
       "      <th>lag_price</th>\n",
       "    </tr>\n",
       "  </thead>\n",
       "  <tbody>\n",
       "    <tr>\n",
       "      <th>62</th>\n",
       "      <td>19.8447</td>\n",
       "      <td>5.6850</td>\n",
       "      <td>4.2563</td>\n",
       "      <td>16.9699</td>\n",
       "      <td>13.8640</td>\n",
       "      <td>13.8495</td>\n",
       "      <td>4.5997</td>\n",
       "      <td>0.0</td>\n",
       "      <td>16.2047</td>\n",
       "      <td>0.0</td>\n",
       "      <td>9.525</td>\n",
       "    </tr>\n",
       "    <tr>\n",
       "      <th>63</th>\n",
       "      <td>18.9475</td>\n",
       "      <td>5.4280</td>\n",
       "      <td>4.0639</td>\n",
       "      <td>16.2027</td>\n",
       "      <td>13.2372</td>\n",
       "      <td>13.0786</td>\n",
       "      <td>4.3437</td>\n",
       "      <td>0.0</td>\n",
       "      <td>15.3028</td>\n",
       "      <td>0.0</td>\n",
       "      <td>9.582</td>\n",
       "    </tr>\n",
       "    <tr>\n",
       "      <th>64</th>\n",
       "      <td>18.6043</td>\n",
       "      <td>5.3297</td>\n",
       "      <td>3.9903</td>\n",
       "      <td>15.9092</td>\n",
       "      <td>12.9975</td>\n",
       "      <td>12.7838</td>\n",
       "      <td>4.2457</td>\n",
       "      <td>0.0</td>\n",
       "      <td>14.9577</td>\n",
       "      <td>0.0</td>\n",
       "      <td>9.149</td>\n",
       "    </tr>\n",
       "    <tr>\n",
       "      <th>65</th>\n",
       "      <td>18.3787</td>\n",
       "      <td>5.2651</td>\n",
       "      <td>3.9419</td>\n",
       "      <td>15.7163</td>\n",
       "      <td>12.8399</td>\n",
       "      <td>12.5899</td>\n",
       "      <td>4.1814</td>\n",
       "      <td>0.0</td>\n",
       "      <td>14.7309</td>\n",
       "      <td>0.0</td>\n",
       "      <td>8.983</td>\n",
       "    </tr>\n",
       "    <tr>\n",
       "      <th>66</th>\n",
       "      <td>18.2648</td>\n",
       "      <td>5.2324</td>\n",
       "      <td>3.9175</td>\n",
       "      <td>15.6189</td>\n",
       "      <td>12.7603</td>\n",
       "      <td>12.4921</td>\n",
       "      <td>4.1489</td>\n",
       "      <td>0.0</td>\n",
       "      <td>14.6164</td>\n",
       "      <td>0.0</td>\n",
       "      <td>8.874</td>\n",
       "    </tr>\n",
       "  </tbody>\n",
       "</table>\n",
       "</div>"
      ],
      "text/plain": [
       "      P_EPS     P_B     P_S    P_FCF  P_EBITDA  EV_FCFF    EV_B  LTDebt_EV  \\\n",
       "62  19.8447  5.6850  4.2563  16.9699   13.8640  13.8495  4.5997        0.0   \n",
       "63  18.9475  5.4280  4.0639  16.2027   13.2372  13.0786  4.3437        0.0   \n",
       "64  18.6043  5.3297  3.9903  15.9092   12.9975  12.7838  4.2457        0.0   \n",
       "65  18.3787  5.2651  3.9419  15.7163   12.8399  12.5899  4.1814        0.0   \n",
       "66  18.2648  5.2324  3.9175  15.6189   12.7603  12.4921  4.1489        0.0   \n",
       "\n",
       "    EV_EBITDA  DPS  lag_price  \n",
       "62    16.2047  0.0      9.525  \n",
       "63    15.3028  0.0      9.582  \n",
       "64    14.9577  0.0      9.149  \n",
       "65    14.7309  0.0      8.983  \n",
       "66    14.6164  0.0      8.874  "
      ]
     },
     "execution_count": 22,
     "metadata": {},
     "output_type": "execute_result"
    }
   ],
   "source": [
    "y = df['signal']\n",
    "X = df[['P_EPS', 'P_B', 'P_S', 'P_FCF','P_EBITDA', 'EV_FCFF', 'EV_B', 'LTDebt_EV', 'EV_EBITDA', 'DPS', 'lag_price']] # becareful inplace= False\n",
    "\n",
    "split = int(0.70 * len(X))\n",
    "X_train = X[:split]\n",
    "y_train = y[:split]\n",
    "X_test = X[split:]\n",
    "y_test = y[split:]\n",
    "###\n",
    "X_train.head()"
   ]
  },
  {
   "cell_type": "code",
   "execution_count": 23,
   "metadata": {},
   "outputs": [],
   "source": [
    "from sklearn.ensemble import RandomForestClassifier"
   ]
  },
  {
   "cell_type": "code",
   "execution_count": 24,
   "metadata": {},
   "outputs": [
    {
     "data": {
      "text/plain": [
       "RandomForestClassifier()"
      ]
     },
     "execution_count": 24,
     "metadata": {},
     "output_type": "execute_result"
    }
   ],
   "source": [
    "# Fitting RF classifier to the Training set\n",
    "\n",
    "RF_classifierst = RandomForestClassifier()\n",
    "RF_classifierst.fit(X_train, y_train)"
   ]
  },
  {
   "cell_type": "code",
   "execution_count": 25,
   "metadata": {},
   "outputs": [],
   "source": [
    "# Predicting the Test set results\n",
    "y_hat = RF_classifierst.predict(X_test)\n"
   ]
  },
  {
   "cell_type": "markdown",
   "metadata": {},
   "source": [
    "---"
   ]
  },
  {
   "cell_type": "code",
   "execution_count": 26,
   "metadata": {},
   "outputs": [],
   "source": [
    "from sklearn.metrics import confusion_matrix"
   ]
  },
  {
   "cell_type": "code",
   "execution_count": 27,
   "metadata": {},
   "outputs": [
    {
     "name": "stdout",
     "output_type": "stream",
     "text": [
      "[[ 25 194]\n",
      " [  2 622]]\n"
     ]
    }
   ],
   "source": [
    "print(confusion_matrix(y_test, y_hat))"
   ]
  },
  {
   "cell_type": "code",
   "execution_count": 28,
   "metadata": {},
   "outputs": [],
   "source": [
    "# defining our own confusion matrix function\n",
    "from sklearn.metrics import confusion_matrix\n",
    "def my_confusion_matrix(y, y_hat):\n",
    "    cm = confusion_matrix(y, y_hat)\n",
    "    TN, FP, FN, TP = cm[0,0], cm[0,1], cm[1,0], cm[1,1]\n",
    "    accuracy = round((TP+TN) / (TP+ FP+ FN+ TN) ,2)\n",
    "    precision = round( TP / (TP+FP),2)\n",
    "    recall = round( TP / (TP+FN),2)\n",
    "    cm_labled = pd.DataFrame(cm, index=['Actual : 0 ','Actual : 1'], columns=['Predict : 0','Predict :1 '])\n",
    "    print('\\n')\n",
    "    print('Accuracy = {}'.format(accuracy))\n",
    "    print('Precision = {}'.format(precision))\n",
    "    print('Recall = {}'.format(recall))\n",
    "    print(\"-----------------------------------------\")\n",
    "    return cm_labled"
   ]
  },
  {
   "cell_type": "code",
   "execution_count": 29,
   "metadata": {},
   "outputs": [
    {
     "name": "stdout",
     "output_type": "stream",
     "text": [
      "\n",
      "\n",
      "Accuracy = 0.77\n",
      "Precision = 0.76\n",
      "Recall = 1.0\n",
      "-----------------------------------------\n"
     ]
    },
    {
     "data": {
      "text/html": [
       "<div>\n",
       "<style scoped>\n",
       "    .dataframe tbody tr th:only-of-type {\n",
       "        vertical-align: middle;\n",
       "    }\n",
       "\n",
       "    .dataframe tbody tr th {\n",
       "        vertical-align: top;\n",
       "    }\n",
       "\n",
       "    .dataframe thead th {\n",
       "        text-align: right;\n",
       "    }\n",
       "</style>\n",
       "<table border=\"1\" class=\"dataframe\">\n",
       "  <thead>\n",
       "    <tr style=\"text-align: right;\">\n",
       "      <th></th>\n",
       "      <th>Predict : 0</th>\n",
       "      <th>Predict :1</th>\n",
       "    </tr>\n",
       "  </thead>\n",
       "  <tbody>\n",
       "    <tr>\n",
       "      <th>Actual : 0</th>\n",
       "      <td>25</td>\n",
       "      <td>194</td>\n",
       "    </tr>\n",
       "    <tr>\n",
       "      <th>Actual : 1</th>\n",
       "      <td>2</td>\n",
       "      <td>622</td>\n",
       "    </tr>\n",
       "  </tbody>\n",
       "</table>\n",
       "</div>"
      ],
      "text/plain": [
       "             Predict : 0  Predict :1 \n",
       "Actual : 0            25          194\n",
       "Actual : 1             2          622"
      ]
     },
     "execution_count": 29,
     "metadata": {},
     "output_type": "execute_result"
    }
   ],
   "source": [
    "# Accuracy: what percentage of the total dots did we predict correctly?\n",
    "# precision: among the ones that we predicted red, how many are actually red (incorporating FP: type I error)\n",
    "# recall: how many of the red dots we predicted correctly (incorporating FN: type II error)\n",
    "my_confusion_matrix(y_test,y_hat)\n"
   ]
  },
  {
   "cell_type": "markdown",
   "metadata": {},
   "source": [
    "---"
   ]
  },
  {
   "cell_type": "markdown",
   "metadata": {},
   "source": [
    "### Cross Validation"
   ]
  },
  {
   "cell_type": "code",
   "execution_count": 30,
   "metadata": {},
   "outputs": [],
   "source": [
    "from sklearn.model_selection import cross_val_score\n",
    "from sklearn.model_selection import TimeSeriesSplit"
   ]
  },
  {
   "cell_type": "code",
   "execution_count": 31,
   "metadata": {},
   "outputs": [
    {
     "data": {
      "text/plain": [
       "array([0.7766323 , 0.73929961, 0.79389313, 0.        , 0.82508251,\n",
       "       0.94047619, 0.63203463, 0.        , 0.91463415, 0.84039088])"
      ]
     },
     "execution_count": 31,
     "metadata": {},
     "output_type": "execute_result"
    }
   ],
   "source": [
    "# correct way of time series cross validation using rolling windows forward walk\n",
    "\n",
    "tscv = cross_val_score(estimator = RF_classifierst, X = X_train, y = y_train, cv = TimeSeriesSplit(n_splits=10, max_train_size=Moving_average) , scoring=\"f1\" )\n",
    "tscv"
   ]
  },
  {
   "cell_type": "code",
   "execution_count": 32,
   "metadata": {},
   "outputs": [
    {
     "data": {
      "text/plain": [
       "0.646"
      ]
     },
     "execution_count": 32,
     "metadata": {},
     "output_type": "execute_result"
    }
   ],
   "source": [
    "round(tscv.mean(),3)"
   ]
  },
  {
   "cell_type": "code",
   "execution_count": 33,
   "metadata": {},
   "outputs": [
    {
     "data": {
      "text/plain": [
       "0.333"
      ]
     },
     "execution_count": 33,
     "metadata": {},
     "output_type": "execute_result"
    }
   ],
   "source": [
    "round(tscv.std(),3)"
   ]
  },
  {
   "cell_type": "markdown",
   "metadata": {},
   "source": [
    "### GridSearch"
   ]
  },
  {
   "cell_type": "code",
   "execution_count": 34,
   "metadata": {},
   "outputs": [],
   "source": [
    "param_gridst = {'max_depth': [5,10,20], 'criterion': ['entropy','gini'], 'max_features':['log2','sqrt']} "
   ]
  },
  {
   "cell_type": "code",
   "execution_count": 35,
   "metadata": {},
   "outputs": [],
   "source": [
    "from sklearn.model_selection import GridSearchCV"
   ]
  },
  {
   "cell_type": "code",
   "execution_count": 36,
   "metadata": {},
   "outputs": [],
   "source": [
    "grid = GridSearchCV(RandomForestClassifier(n_estimators=100, random_state=100, class_weight='balanced'),param_gridst,refit=True,verbose=2, cv=3)"
   ]
  },
  {
   "cell_type": "code",
   "execution_count": 37,
   "metadata": {},
   "outputs": [
    {
     "name": "stdout",
     "output_type": "stream",
     "text": [
      "Fitting 3 folds for each of 12 candidates, totalling 36 fits\n",
      "[CV] END ..criterion=entropy, max_depth=5, max_features=log2; total time=   0.1s\n",
      "[CV] END ..criterion=entropy, max_depth=5, max_features=log2; total time=   0.1s\n",
      "[CV] END ..criterion=entropy, max_depth=5, max_features=log2; total time=   0.1s\n",
      "[CV] END ..criterion=entropy, max_depth=5, max_features=sqrt; total time=   0.1s\n",
      "[CV] END ..criterion=entropy, max_depth=5, max_features=sqrt; total time=   0.1s\n",
      "[CV] END ..criterion=entropy, max_depth=5, max_features=sqrt; total time=   0.1s\n",
      "[CV] END .criterion=entropy, max_depth=10, max_features=log2; total time=   0.1s\n",
      "[CV] END .criterion=entropy, max_depth=10, max_features=log2; total time=   0.2s\n",
      "[CV] END .criterion=entropy, max_depth=10, max_features=log2; total time=   0.1s\n",
      "[CV] END .criterion=entropy, max_depth=10, max_features=sqrt; total time=   0.1s\n",
      "[CV] END .criterion=entropy, max_depth=10, max_features=sqrt; total time=   0.1s\n",
      "[CV] END .criterion=entropy, max_depth=10, max_features=sqrt; total time=   0.1s\n",
      "[CV] END .criterion=entropy, max_depth=20, max_features=log2; total time=   0.1s\n",
      "[CV] END .criterion=entropy, max_depth=20, max_features=log2; total time=   0.1s\n",
      "[CV] END .criterion=entropy, max_depth=20, max_features=log2; total time=   0.1s\n",
      "[CV] END .criterion=entropy, max_depth=20, max_features=sqrt; total time=   0.1s\n",
      "[CV] END .criterion=entropy, max_depth=20, max_features=sqrt; total time=   0.1s\n",
      "[CV] END .criterion=entropy, max_depth=20, max_features=sqrt; total time=   0.1s\n",
      "[CV] END .....criterion=gini, max_depth=5, max_features=log2; total time=   0.0s\n",
      "[CV] END .....criterion=gini, max_depth=5, max_features=log2; total time=   0.0s\n",
      "[CV] END .....criterion=gini, max_depth=5, max_features=log2; total time=   0.0s\n",
      "[CV] END .....criterion=gini, max_depth=5, max_features=sqrt; total time=   0.0s\n",
      "[CV] END .....criterion=gini, max_depth=5, max_features=sqrt; total time=   0.0s\n",
      "[CV] END .....criterion=gini, max_depth=5, max_features=sqrt; total time=   0.0s\n",
      "[CV] END ....criterion=gini, max_depth=10, max_features=log2; total time=   0.1s\n",
      "[CV] END ....criterion=gini, max_depth=10, max_features=log2; total time=   0.1s\n",
      "[CV] END ....criterion=gini, max_depth=10, max_features=log2; total time=   0.1s\n",
      "[CV] END ....criterion=gini, max_depth=10, max_features=sqrt; total time=   0.1s\n",
      "[CV] END ....criterion=gini, max_depth=10, max_features=sqrt; total time=   0.1s\n",
      "[CV] END ....criterion=gini, max_depth=10, max_features=sqrt; total time=   0.1s\n",
      "[CV] END ....criterion=gini, max_depth=20, max_features=log2; total time=   0.1s\n",
      "[CV] END ....criterion=gini, max_depth=20, max_features=log2; total time=   0.1s\n",
      "[CV] END ....criterion=gini, max_depth=20, max_features=log2; total time=   0.1s\n",
      "[CV] END ....criterion=gini, max_depth=20, max_features=sqrt; total time=   0.1s\n",
      "[CV] END ....criterion=gini, max_depth=20, max_features=sqrt; total time=   0.1s\n",
      "[CV] END ....criterion=gini, max_depth=20, max_features=sqrt; total time=   0.1s\n",
      "Wall time: 6.98 s\n"
     ]
    },
    {
     "data": {
      "text/plain": [
       "GridSearchCV(cv=3,\n",
       "             estimator=RandomForestClassifier(class_weight='balanced',\n",
       "                                              random_state=100),\n",
       "             param_grid={'criterion': ['entropy', 'gini'],\n",
       "                         'max_depth': [5, 10, 20],\n",
       "                         'max_features': ['log2', 'sqrt']},\n",
       "             verbose=2)"
      ]
     },
     "execution_count": 37,
     "metadata": {},
     "output_type": "execute_result"
    }
   ],
   "source": [
    "# About 10 seconds\n",
    "%time grid.fit(X_train,y_train)"
   ]
  },
  {
   "cell_type": "code",
   "execution_count": 38,
   "metadata": {},
   "outputs": [
    {
     "data": {
      "text/plain": [
       "{'criterion': 'gini', 'max_depth': 10, 'max_features': 'log2'}"
      ]
     },
     "execution_count": 38,
     "metadata": {},
     "output_type": "execute_result"
    }
   ],
   "source": [
    "grid.best_params_"
   ]
  },
  {
   "cell_type": "code",
   "execution_count": 39,
   "metadata": {},
   "outputs": [
    {
     "data": {
      "text/plain": [
       "RandomForestClassifier(class_weight='balanced', max_depth=10,\n",
       "                       max_features='log2', random_state=100)"
      ]
     },
     "execution_count": 39,
     "metadata": {},
     "output_type": "execute_result"
    }
   ],
   "source": [
    "grid.best_estimator_"
   ]
  },
  {
   "cell_type": "code",
   "execution_count": 40,
   "metadata": {},
   "outputs": [],
   "source": [
    "y_hat_opt = grid.predict(X_test)"
   ]
  },
  {
   "cell_type": "code",
   "execution_count": 41,
   "metadata": {},
   "outputs": [
    {
     "name": "stdout",
     "output_type": "stream",
     "text": [
      "\n",
      "\n",
      "Accuracy = 0.76\n",
      "Precision = 0.76\n",
      "Recall = 1.0\n",
      "-----------------------------------------\n"
     ]
    },
    {
     "data": {
      "text/html": [
       "<div>\n",
       "<style scoped>\n",
       "    .dataframe tbody tr th:only-of-type {\n",
       "        vertical-align: middle;\n",
       "    }\n",
       "\n",
       "    .dataframe tbody tr th {\n",
       "        vertical-align: top;\n",
       "    }\n",
       "\n",
       "    .dataframe thead th {\n",
       "        text-align: right;\n",
       "    }\n",
       "</style>\n",
       "<table border=\"1\" class=\"dataframe\">\n",
       "  <thead>\n",
       "    <tr style=\"text-align: right;\">\n",
       "      <th></th>\n",
       "      <th>Predict : 0</th>\n",
       "      <th>Predict :1</th>\n",
       "    </tr>\n",
       "  </thead>\n",
       "  <tbody>\n",
       "    <tr>\n",
       "      <th>Actual : 0</th>\n",
       "      <td>17</td>\n",
       "      <td>202</td>\n",
       "    </tr>\n",
       "    <tr>\n",
       "      <th>Actual : 1</th>\n",
       "      <td>1</td>\n",
       "      <td>623</td>\n",
       "    </tr>\n",
       "  </tbody>\n",
       "</table>\n",
       "</div>"
      ],
      "text/plain": [
       "             Predict : 0  Predict :1 \n",
       "Actual : 0            17          202\n",
       "Actual : 1             1          623"
      ]
     },
     "execution_count": 41,
     "metadata": {},
     "output_type": "execute_result"
    }
   ],
   "source": [
    "my_confusion_matrix(y_test,y_hat_opt)"
   ]
  },
  {
   "cell_type": "markdown",
   "metadata": {},
   "source": [
    "---"
   ]
  },
  {
   "cell_type": "markdown",
   "metadata": {},
   "source": [
    "### Feature Importance"
   ]
  },
  {
   "cell_type": "code",
   "execution_count": 42,
   "metadata": {},
   "outputs": [
    {
     "data": {
      "text/plain": [
       "['P_EPS',\n",
       " 'P_B',\n",
       " 'P_S',\n",
       " 'P_FCF',\n",
       " 'P_EBITDA',\n",
       " 'EV_FCFF',\n",
       " 'EV_B',\n",
       " 'LTDebt_EV',\n",
       " 'EV_EBITDA',\n",
       " 'DPS',\n",
       " 'lag_price']"
      ]
     },
     "execution_count": 42,
     "metadata": {},
     "output_type": "execute_result"
    }
   ],
   "source": [
    "features = list(X_train.columns)\n",
    "features"
   ]
  },
  {
   "cell_type": "code",
   "execution_count": 43,
   "metadata": {},
   "outputs": [
    {
     "data": {
      "text/plain": [
       "RandomForestClassifier(max_depth=10, max_features='log2', random_state=1000)"
      ]
     },
     "execution_count": 43,
     "metadata": {},
     "output_type": "execute_result"
    }
   ],
   "source": [
    "RF_classifier = RandomForestClassifier(n_estimators = 100, max_features='log2', max_depth=10, criterion='gini', random_state= 1000)\n",
    "RF_classifier.fit(X_train, y_train)"
   ]
  },
  {
   "cell_type": "code",
   "execution_count": 44,
   "metadata": {},
   "outputs": [
    {
     "data": {
      "text/plain": [
       "array([0.11789518, 0.08103371, 0.08687544, 0.12920741, 0.10181404,\n",
       "       0.09621068, 0.07313078, 0.07678508, 0.06188701, 0.03194077,\n",
       "       0.14321991])"
      ]
     },
     "execution_count": 44,
     "metadata": {},
     "output_type": "execute_result"
    }
   ],
   "source": [
    "importance = RF_classifierst.feature_importances_\n",
    "importance"
   ]
  },
  {
   "cell_type": "code",
   "execution_count": 45,
   "metadata": {},
   "outputs": [
    {
     "data": {
      "text/html": [
       "<div>\n",
       "<style scoped>\n",
       "    .dataframe tbody tr th:only-of-type {\n",
       "        vertical-align: middle;\n",
       "    }\n",
       "\n",
       "    .dataframe tbody tr th {\n",
       "        vertical-align: top;\n",
       "    }\n",
       "\n",
       "    .dataframe thead th {\n",
       "        text-align: right;\n",
       "    }\n",
       "</style>\n",
       "<table border=\"1\" class=\"dataframe\">\n",
       "  <thead>\n",
       "    <tr style=\"text-align: right;\">\n",
       "      <th></th>\n",
       "      <th>Features</th>\n",
       "      <th>Feature_importance</th>\n",
       "    </tr>\n",
       "  </thead>\n",
       "  <tbody>\n",
       "    <tr>\n",
       "      <th>9</th>\n",
       "      <td>DPS</td>\n",
       "      <td>0.031941</td>\n",
       "    </tr>\n",
       "    <tr>\n",
       "      <th>8</th>\n",
       "      <td>EV_EBITDA</td>\n",
       "      <td>0.061887</td>\n",
       "    </tr>\n",
       "    <tr>\n",
       "      <th>6</th>\n",
       "      <td>EV_B</td>\n",
       "      <td>0.073131</td>\n",
       "    </tr>\n",
       "    <tr>\n",
       "      <th>7</th>\n",
       "      <td>LTDebt_EV</td>\n",
       "      <td>0.076785</td>\n",
       "    </tr>\n",
       "    <tr>\n",
       "      <th>1</th>\n",
       "      <td>P_B</td>\n",
       "      <td>0.081034</td>\n",
       "    </tr>\n",
       "    <tr>\n",
       "      <th>2</th>\n",
       "      <td>P_S</td>\n",
       "      <td>0.086875</td>\n",
       "    </tr>\n",
       "    <tr>\n",
       "      <th>5</th>\n",
       "      <td>EV_FCFF</td>\n",
       "      <td>0.096211</td>\n",
       "    </tr>\n",
       "    <tr>\n",
       "      <th>4</th>\n",
       "      <td>P_EBITDA</td>\n",
       "      <td>0.101814</td>\n",
       "    </tr>\n",
       "    <tr>\n",
       "      <th>0</th>\n",
       "      <td>P_EPS</td>\n",
       "      <td>0.117895</td>\n",
       "    </tr>\n",
       "    <tr>\n",
       "      <th>3</th>\n",
       "      <td>P_FCF</td>\n",
       "      <td>0.129207</td>\n",
       "    </tr>\n",
       "    <tr>\n",
       "      <th>10</th>\n",
       "      <td>lag_price</td>\n",
       "      <td>0.143220</td>\n",
       "    </tr>\n",
       "  </tbody>\n",
       "</table>\n",
       "</div>"
      ],
      "text/plain": [
       "     Features  Feature_importance\n",
       "9         DPS            0.031941\n",
       "8   EV_EBITDA            0.061887\n",
       "6        EV_B            0.073131\n",
       "7   LTDebt_EV            0.076785\n",
       "1         P_B            0.081034\n",
       "2         P_S            0.086875\n",
       "5     EV_FCFF            0.096211\n",
       "4    P_EBITDA            0.101814\n",
       "0       P_EPS            0.117895\n",
       "3       P_FCF            0.129207\n",
       "10  lag_price            0.143220"
      ]
     },
     "execution_count": 45,
     "metadata": {},
     "output_type": "execute_result"
    }
   ],
   "source": [
    "FIM = pd.DataFrame({'Features': features , 'Feature_importance':importance})\n",
    "FIM=FIM.sort_values(by=['Feature_importance'])\n",
    "FIM"
   ]
  },
  {
   "cell_type": "code",
   "execution_count": 46,
   "metadata": {},
   "outputs": [
    {
     "data": {
      "image/png": "[encoded data removed]",
      "text/plain": [
       "<Figure size 720x432 with 1 Axes>"
      ]
     },
     "metadata": {
      "needs_background": "light"
     },
     "output_type": "display_data"
    }
   ],
   "source": [
    "plt.figure(figsize=(10,6))\n",
    "plt.title('Feature Importance')\n",
    "sns.barplot(y='Features', x='Feature_importance', data=FIM)\n",
    "plt.show()"
   ]
  },
  {
   "cell_type": "markdown",
   "metadata": {},
   "source": [
    "---"
   ]
  },
  {
   "cell_type": "markdown",
   "metadata": {},
   "source": [
    "###  Additional links:\n"
   ]
  },
  {
   "cell_type": "markdown",
   "metadata": {},
   "source": [
    "1. Decision Trees with sklearn: https://scikit-learn.org/stable/modules/tree.html\n",
    "2. Ensemble learning with sklearn: https://scikit-learn.org/stable/modules/ensemble.html\n",
    "3. graphviz: this is used for Tree visualization: http://graphviz.org/\n",
    "4. Out of Bag errors for random forest: https://scikit-learn.org/stable/auto_examples/ensemble/plot_ensemble_oob.html#sphx-glr-auto-examples-ensemble-plot-ensemble-oob-py"
   ]
  }
 ],
 "metadata": {
  "kernelspec": {
   "display_name": "Python 3",
   "language": "python",
   "name": "python3"
  },
  "language_info": {
   "codemirror_mode": {
    "name": "ipython",
    "version": 3
   },
   "file_extension": ".py",
   "mimetype": "text/x-python",
   "name": "python",
   "nbconvert_exporter": "python",
   "pygments_lexer": "ipython3",
   "version": "3.7.3"
  }
 },
 "nbformat": 4,
 "nbformat_minor": 4
}
